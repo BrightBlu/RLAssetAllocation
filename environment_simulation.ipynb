{
 "cells": [
  {
   "cell_type": "code",
   "execution_count": 5,
   "metadata": {},
   "outputs": [],
   "source": [
    "from environments.market_environment import MarketEnvironment\n",
    "import json\n",
    "import numpy as np\n",
    "\n",
    "def action_to_xt(log_value: int) -> float:\n",
    "        return np.exp(log_value)\n",
    "\n",
    "def xt_to_action(xt: float) -> int:\n",
    "    return int(np.clip(round(np.log(abs(xt)))))"
   ]
  },
  {
   "cell_type": "code",
   "execution_count": 6,
   "metadata": {},
   "outputs": [],
   "source": [
    "config = json.load(open('configs/qlearning_no_wealth_exp_weight_no_sign.json'))\n",
    "env = MarketEnvironment(config=config)"
   ]
  },
  {
   "cell_type": "code",
   "execution_count": 7,
   "metadata": {},
   "outputs": [
    {
     "name": "stdout",
     "output_type": "stream",
     "text": [
      "-799.3965296400395\n",
      "68650.86498797727\n"
     ]
    }
   ],
   "source": [
    "random_result = []\n",
    "for i in range(1, 100000):\n",
    "    env.reset()\n",
    "    for t in range(10):\n",
    "        action = action_to_xt(np.random.choice(list(range(-8, 9))))\n",
    "        state, reward, done, info = env.step(action)\n",
    "        if done:\n",
    "            random_result.append(reward)\n",
    "\n",
    "print(np.mean(random_result))\n",
    "print(np.std(random_result))"
   ]
  },
  {
   "cell_type": "code",
   "execution_count": 11,
   "metadata": {},
   "outputs": [
    {
     "name": "stdout",
     "output_type": "stream",
     "text": [
      "7.916050537367029\n",
      "7.549997756657905\n"
     ]
    }
   ],
   "source": [
    "optimal_result = []\n",
    "k = 0.0198\n",
    "b = 5.7350\n",
    "for i in range(1, 1000000):\n",
    "    env.reset()\n",
    "    for t in range(10):\n",
    "        action = np.exp(t*k+b)\n",
    "        state, reward, done, info = env.step(action)\n",
    "        if done:\n",
    "            optimal_result.append(reward)\n",
    "\n",
    "print(np.mean(optimal_result))\n",
    "print(np.std(optimal_result))"
   ]
  },
  {
   "cell_type": "code",
   "execution_count": 9,
   "metadata": {},
   "outputs": [],
   "source": [
    "policy = [8, 11, 12, 14, -2, 12, 13, 14, 15, 3, 14] # You can change your policy here"
   ]
  },
  {
   "cell_type": "code",
   "execution_count": 10,
   "metadata": {},
   "outputs": [
    {
     "name": "stdout",
     "output_type": "stream",
     "text": [
      "7.842184609192327\n",
      "5.204577292366782\n"
     ]
    }
   ],
   "source": [
    "policy_result = []\n",
    "k = 0.0198\n",
    "b = 5.7350\n",
    "for i in range(1, 1000000):\n",
    "    env.reset()\n",
    "    for t in range(10):\n",
    "        action = np.exp(-5*k+b) # You can modify this function\n",
    "        state, reward, done, info = env.step(action)\n",
    "        if done:\n",
    "            policy_result.append(reward)\n",
    "\n",
    "print(np.mean(policy_result))\n",
    "print(np.std(policy_result))"
   ]
  },
  {
   "cell_type": "code",
   "execution_count": null,
   "metadata": {},
   "outputs": [],
   "source": []
  }
 ],
 "metadata": {
  "kernelspec": {
   "display_name": "quant",
   "language": "python",
   "name": "python3"
  },
  "language_info": {
   "codemirror_mode": {
    "name": "ipython",
    "version": 3
   },
   "file_extension": ".py",
   "mimetype": "text/x-python",
   "name": "python",
   "nbconvert_exporter": "python",
   "pygments_lexer": "ipython3",
   "version": "3.11.8"
  }
 },
 "nbformat": 4,
 "nbformat_minor": 2
}
